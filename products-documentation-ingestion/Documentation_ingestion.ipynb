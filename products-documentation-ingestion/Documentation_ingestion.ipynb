{
 "cells": [
  {
   "cell_type": "markdown",
   "id": "3420575b-4d00-458b-aa0e-7030008ccd53",
   "metadata": {},
   "source": [
    "## Red Hat Product Documentation Ingestion\n",
    "\n",
    "Using this notebook and the various dependencies, you can extract and ingest a specific Red Hat Product documentation inside a Milvus database using Nomic AI Embeddings."
   ]
  },
  {
   "cell_type": "markdown",
   "id": "8308b229-b520-4e82-a783-eb921bb955e7",
   "metadata": {},
   "source": [
    "### Needed packages"
   ]
  },
  {
   "cell_type": "code",
   "execution_count": null,
   "id": "91e41b41-f60a-4b0f-91a1-cd273b60f21b",
   "metadata": {
    "tags": []
   },
   "outputs": [],
   "source": [
    "!pip install -r requirements.txt"
   ]
  },
  {
   "cell_type": "code",
   "execution_count": null,
   "id": "801d9dbc-f155-4b04-80a9-8659a1e1b6de",
   "metadata": {
    "tags": []
   },
   "outputs": [],
   "source": [
    "import json\n",
    "import rh_documentation_ingestion as rhdi"
   ]
  },
  {
   "cell_type": "markdown",
   "id": "08cae2e1-1f96-4bcd-81c4-eaa750e8338a",
   "metadata": {},
   "source": [
    "## Product information"
   ]
  },
  {
   "cell_type": "code",
   "execution_count": null,
   "id": "03335ca7-8e55-47d4-8d2c-60b646b11de5",
   "metadata": {
    "tags": []
   },
   "outputs": [],
   "source": [
    "class product_info:\n",
    "    def __init__(self, product, product_full_name, version, language):\n",
    "        self.product = product\n",
    "        self.product_full_name = product_full_name\n",
    "        self.version = version\n",
    "        self.language = language\n",
    "\n",
    "    def __repr__(self):\n",
    "        return f\"product_info(product={self.product}, product_full_name={self.product_full_name}, version={self.version}, language={self.language})\""
   ]
  },
  {
   "cell_type": "code",
   "execution_count": null,
   "id": "19c2a042-3f5f-4460-be92-8517e5b4e594",
   "metadata": {
    "tags": []
   },
   "outputs": [],
   "source": [
    "# Load collections from JSON file\n",
    "with open('collections.json', 'r') as file:\n",
    "    data = json.load(file)\n",
    "\n",
    "# Iterate over the products and versions\n",
    "products = []\n",
    "for item in data:\n",
    "    product = item['product']\n",
    "    product_full_name = item['product_full_name']\n",
    "    language = item['language']\n",
    "\n",
    "    for version in item['version']:\n",
    "        # Create an instance of the product_info class and append to the list\n",
    "        products.append(product_info(product, product_full_name, version, language))"
   ]
  },
  {
   "cell_type": "markdown",
   "id": "ff8e191e-223b-45b4-9c11-63c051c76a35",
   "metadata": {
    "tags": []
   },
   "source": [
    "## Ingestion"
   ]
  },
  {
   "cell_type": "code",
   "execution_count": null,
   "id": "927796d3-8ff3-4831-8c3f-aed05a54c216",
   "metadata": {
    "tags": []
   },
   "outputs": [],
   "source": [
    "milvus = {}\n",
    "milvus[\"MILVUS_HOST\"] = os.getenv('MILVUS_HOST')\n",
    "milvus[\"MILVUS_PORT\"] = os.getenv('MILVUS_PORT')\n",
    "milvus[\"MILVUS_USERNAME\"] = os.getenv('MILVUS_USERNAME')\n",
    "milvus[\"MILVUS_PASSWORD\"] = os.getenv('MILVUS_PASSWORD')\n",
    "embeddings_endpoint = {}\n",
    "embeddings_endpoint[\"EMBEDDINGS_API_URL\"] = os.getenv('EMBEDDINGS_API_URL')\n",
    "embeddings_endpoint[\"EMBEDDINGS_API_KEY\"] = os.getenv('EMBEDDINGS_API_KEY')"
   ]
  },
  {
   "cell_type": "code",
   "execution_count": null,
   "id": "03bb88d5-d89e-434c-a395-606e6f74b51a",
   "metadata": {
    "tags": []
   },
   "outputs": [],
   "source": [
    "for product in products:\n",
    "    print('-----------------------------------')\n",
    "    print(f'Processing \"{product.product_full_name}\" at version {product.version}, language {product.language}')\n",
    "    try:\n",
    "        rhdi.ingest_documentation(product, milvus, embeddings_endpoint)\n",
    "    except Exception as e:\n",
    "        print(f'Error processing \"{product.product_full_name}\" at version {product.version}, language {product.language}')\n",
    "        print(f'{e}')"
   ]
  }
 ],
 "metadata": {
  "kernelspec": {
   "display_name": "Python 3.9",
   "language": "python",
   "name": "python3"
  },
  "language_info": {
   "codemirror_mode": {
    "name": "ipython",
    "version": 3
   },
   "file_extension": ".py",
   "mimetype": "text/x-python",
   "name": "python",
   "nbconvert_exporter": "python",
   "pygments_lexer": "ipython3",
   "version": "3.9.18"
  }
 },
 "nbformat": 4,
 "nbformat_minor": 5
}
