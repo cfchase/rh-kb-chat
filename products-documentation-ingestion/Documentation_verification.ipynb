{
 "cells": [
  {
   "cell_type": "markdown",
   "id": "7e945c72",
   "metadata": {},
   "source": [
    "## Red Hat Product Documentation Verification\n",
    "\n",
    "Using this notebook and the various dependencies, you can verify that the documentation was ingested properly inside the corresponding Milvus collection."
   ]
  },
  {
   "cell_type": "code",
   "execution_count": null,
   "id": "4aef322e-570a-45fd-847c-6440de126f09",
   "metadata": {
    "tags": []
   },
   "outputs": [],
   "source": [
    "import os\n",
    "import json\n",
    "from langchain_openai import OpenAIEmbeddings\n",
    "from langchain_milvus import Milvus"
   ]
  },
  {
   "cell_type": "code",
   "execution_count": null,
   "id": "bf232ad8-d1e2-478a-bd7b-f2570efb8d65",
   "metadata": {
    "tags": []
   },
   "outputs": [],
   "source": [
    "class product_info:\n",
    "    def __init__(self, product, product_full_name, version, language):\n",
    "        self.product = product\n",
    "        self.product_full_name = product_full_name\n",
    "        self.version = version\n",
    "        self.language = language\n",
    "\n",
    "    def __repr__(self):\n",
    "        return f\"product_info(product={self.product}, product_full_name={self.product_full_name}, version={self.version}, language={self.language})\""
   ]
  },
  {
   "cell_type": "code",
   "execution_count": null,
   "id": "0fc21b94-b9c7-4b0d-9d90-0a5d74333286",
   "metadata": {
    "tags": []
   },
   "outputs": [],
   "source": [
    "# Load collections from JSON file\n",
    "with open('collections.json', 'r') as file:\n",
    "    data = json.load(file)\n",
    "\n",
    "# Iterate over the products and versions\n",
    "products = []\n",
    "for item in data:\n",
    "    product = item['product']\n",
    "    product_full_name = item['product_full_name']\n",
    "    language = item['language']\n",
    "\n",
    "    for version in item['version']:\n",
    "        # Create an instance of the product_info class and append to the list\n",
    "        products.append(product_info(product, product_full_name, version, language))"
   ]
  },
  {
   "cell_type": "code",
   "execution_count": null,
   "id": "8b852320-d400-4bf8-ad6d-0f4b61bf141f",
   "metadata": {
    "tags": []
   },
   "outputs": [],
   "source": [
    "milvus = {}\n",
    "milvus[\"MILVUS_HOST\"] = os.getenv('MILVUS_HOST')\n",
    "milvus[\"MILVUS_PORT\"] = os.getenv('MILVUS_PORT')\n",
    "milvus[\"MILVUS_USERNAME\"] = os.getenv('MILVUS_USERNAME')\n",
    "milvus[\"MILVUS_PASSWORD\"] = os.getenv('MILVUS_PASSWORD')\n",
    "embeddings_endpoint = {}\n",
    "embeddings_endpoint[\"EMBEDDINGS_API_URL\"] = os.getenv('EMBEDDINGS_API_URL')\n",
    "embeddings_endpoint[\"EMBEDDINGS_API_KEY\"] = os.getenv('EMBEDDINGS_API_KEY')"
   ]
  },
  {
   "cell_type": "code",
   "execution_count": null,
   "id": "2d69c796-478e-4176-b4ee-686a32cfd691",
   "metadata": {
    "tags": []
   },
   "outputs": [],
   "source": [
    "embeddings = OpenAIEmbeddings(\n",
    "        openai_api_base=embeddings_endpoint[\"EMBEDDINGS_API_URL\"],\n",
    "        openai_api_key=embeddings_endpoint[\"EMBEDDINGS_API_KEY\"],\n",
    "        model=\"nomic-embed-text-v1.5\",\n",
    "        chunk_size=\"16\",\n",
    "        show_progress_bar=False\n",
    "    )"
   ]
  },
  {
   "cell_type": "code",
   "execution_count": null,
   "id": "606ed0cd-a8c9-4f20-8eda-f6ccfa425c02",
   "metadata": {
    "tags": []
   },
   "outputs": [],
   "source": [
    "query = \"How do I install this product?\"\n",
    "\n",
    "for product_info in products:\n",
    "    MILVUS_COLLECTION = f\"{product_info.product}_{product_info.language}_{product_info.version}\".replace(\"-\",\"_\").replace(\".\",\"_\")\n",
    "    vector_store = Milvus(\n",
    "        embedding_function=embeddings,\n",
    "        connection_args={\"host\": milvus[\"MILVUS_HOST\"], \"port\": milvus[\"MILVUS_PORT\"], \"user\": milvus[\"MILVUS_USERNAME\"], \"password\": milvus[\"MILVUS_PASSWORD\"]},\n",
    "        collection_name=MILVUS_COLLECTION,\n",
    "        enable_dynamic_field=True,\n",
    "        text_field=\"page_content\",\n",
    "        auto_id=True,\n",
    "        drop_old=False\n",
    "        )\n",
    "    docs_with_score = vector_store.similarity_search_with_score(query)\n",
    "\n",
    "    for doc, score in docs_with_score:\n",
    "        print(\"-\" * 80)\n",
    "        print(\"Score: \", score)\n",
    "        print(doc.page_content)\n",
    "        print(\"-\" * 80)"
   ]
  }
 ],
 "metadata": {
  "kernelspec": {
   "display_name": "Python 3.9",
   "language": "python",
   "name": "python3"
  },
  "language_info": {
   "codemirror_mode": {
    "name": "ipython",
    "version": 3
   },
   "file_extension": ".py",
   "mimetype": "text/x-python",
   "name": "python",
   "nbconvert_exporter": "python",
   "pygments_lexer": "ipython3",
   "version": "3.9.18"
  }
 },
 "nbformat": 4,
 "nbformat_minor": 5
}
